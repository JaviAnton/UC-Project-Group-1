{
 "cells": [
  {
   "cell_type": "markdown",
   "metadata": {},
   "source": [
    "### UC-Project"
   ]
  },
  {
   "cell_type": "code",
   "execution_count": 1,
   "metadata": {},
   "outputs": [],
   "source": [
    "import pandas as pd\n",
    "import numpy as np\n",
    "import geopandas as gp\n",
    "import matplotlib.pyplot as plt"
   ]
  },
  {
   "cell_type": "code",
   "execution_count": 2,
   "metadata": {},
   "outputs": [
    {
     "data": {
      "text/plain": [
       "[<matplotlib.lines.Line2D at 0x1abdffa6610>]"
      ]
     },
     "execution_count": 2,
     "metadata": {},
     "output_type": "execute_result"
    },
    {
     "data": {
      "image/png": "[encoded data removed]",
      "text/plain": [
       "<Figure size 640x480 with 1 Axes>"
      ]
     },
     "metadata": {},
     "output_type": "display_data"
    }
   ],
   "source": [
    "data_raw=pd.read_csv(\"data\\mobike_shanghai_sample_updated.csv\")\n",
    "traj_test=data_raw.loc[15,\"track\"]\n",
    "\n",
    "traj_test_parsed=np.array([p.split(',') for p in traj_test.split(\"#\")],dtype=float)\n",
    "\n",
    "plt.plot(traj_test_parsed[:,0],traj_test_parsed[:,1])"
   ]
  },
  {
   "cell_type": "code",
   "execution_count": 3,
   "metadata": {},
   "outputs": [],
   "source": [
    "# from leuvenmapmatching.matcher.distance import DistanceMatcher\n",
    "# from leuvenmapmatching.map.inmem import InMemMap\n",
    "\n",
    "# map_con = InMemMap(\"mymap\", graph={\n",
    "#     \"A\": ((1, 1), [\"B\", \"C\", \"X\"]),\n",
    "#     \"B\": ((1, 3), [\"A\", \"C\", \"D\", \"K\"]),\n",
    "#     \"C\": ((2, 2), [\"A\", \"B\", \"D\", \"E\", \"X\", \"Y\"]),\n",
    "#     \"D\": ((2, 4), [\"B\", \"C\", \"F\", \"E\", \"K\", \"L\"]),\n",
    "#     \"E\": ((3, 3), [\"C\", \"D\", \"F\", \"Y\"]),\n",
    "#     \"F\": ((3, 5), [\"D\", \"E\", \"L\"]),\n",
    "#     \"X\": ((2, 0), [\"A\", \"C\", \"Y\"]),\n",
    "#     \"Y\": ((3, 1), [\"X\", \"C\", \"E\"]),\n",
    "#     \"K\": ((1, 5), [\"B\", \"D\", \"L\"]),\n",
    "#     \"L\": ((2, 6), [\"K\", \"D\", \"F\"])\n",
    "# }, use_latlon=False)\n",
    "\n",
    "# path = [(0.8, 0.7), (0.9, 0.7), (1.1, 1.0), (1.2, 1.5), (1.2, 1.6), (1.1, 2.0),\n",
    "#         (1.1, 2.3), (1.3, 2.9), (1.2, 3.1), (1.5, 3.2), (1.8, 3.5), (2.0, 3.7),\n",
    "#         (2.3, 3.5), (2.4, 3.2), (2.6, 3.1), (2.9, 3.1), (3.0, 3.2),\n",
    "#         (3.1, 3.8), (3.0, 4.0), (3.1, 4.3), (3.1, 4.6), (3.0, 4.9)]\n",
    "\n",
    "# matcher = DistanceMatcher(map_con, max_dist=2, obs_noise=1, min_prob_norm=0.5, max_lattice_width=5)\n",
    "# states, _ = matcher.match(path)\n",
    "# nodes = matcher.path_pred_onlynodes\n",
    "\n",
    "# print(\"States\\n------\")\n",
    "# print(states)\n",
    "# print(\"Nodes\\n------\")\n",
    "# print(nodes)\n",
    "# print(\"\")\n",
    "# matcher.print_lattice_stats()"
   ]
  },
  {
   "cell_type": "code",
   "execution_count": 4,
   "metadata": {},
   "outputs": [],
   "source": [
    "# from leuvenmapmatching import visualization as mmviz\n",
    "# fig, ax = plt.subplots(1, 1)\n",
    "# mmviz.plot_map(map_con, matcher=matcher,\n",
    "#                ax=ax,\n",
    "#                show_labels=True, show_matching=True, show_graph=True,\n",
    "#                filename=\"my_plot.png\")"
   ]
  },
  {
   "cell_type": "code",
   "execution_count": 5,
   "metadata": {},
   "outputs": [],
   "source": [
    "# import networkx as nx\n",
    "# import osmnx as ox\n",
    "# ox.config(log_console=True, use_cache=True)\n",
    "\n",
    "# G = ox.graph_from_place('Shanghai, China', network_type='bike')"
   ]
  },
  {
   "cell_type": "code",
   "execution_count": 6,
   "metadata": {},
   "outputs": [],
   "source": [
    "# data=G.nodes.data()\n",
    "# adj_lists=[x.split(\"#\") for x in nx.generate_adjlist(G,delimiter=\"#\")]\n",
    "# adj_lists=[[int(x) for x in list] for list in adj_lists]\n",
    "# dict_G={l[0]:((data[l[0]]['x'],data[l[0]]['y']),l[1:]) for l in adj_lists}"
   ]
  },
  {
   "cell_type": "code",
   "execution_count": 7,
   "metadata": {},
   "outputs": [],
   "source": [
    "path=[tuple(p) for p in traj_test_parsed.tolist()]"
   ]
  },
  {
   "cell_type": "code",
   "execution_count": 8,
   "metadata": {},
   "outputs": [],
   "source": [
    "# shanghai_map=InMemMap(\"mymap\", graph=G, use_latlon=False)\n",
    "\n",
    "# matcher = DistanceMatcher(shanghai_map)#, max_dist=2, obs_noise=1, min_prob_norm=0.5, max_lattice_width=5)\n",
    "# states, _ = matcher.match(path)\n",
    "# nodes = matcher.path_pred_onlynodes\n",
    "\n",
    "# print(\"States\\n------\")\n",
    "# print(states)\n",
    "# print(\"Nodes\\n------\")\n",
    "# print(nodes)\n",
    "# print(\"\")\n",
    "# matcher.print_lattice_stats()\n",
    "\n",
    "# # from leuvenmapmatching import visualization as mmviz\n",
    "# # fig, ax = plt.subplots(1, 1)\n",
    "# # mmviz.plot_map(shanghai_map, matcher=matcher,\n",
    "# #                ax=ax,\n",
    "# #                show_labels=True, show_matching=True, show_graph=True,\n",
    "# #                filename=\"my_plot.png\")"
   ]
  },
  {
   "cell_type": "code",
   "execution_count": 17,
   "metadata": {},
   "outputs": [
    {
     "name": "stderr",
     "output_type": "stream",
     "text": [
      "Searching closeby nodes with linear search, use an index and set max_dist\n"
     ]
    },
    {
     "name": "stdout",
     "output_type": "stream",
     "text": [
      "States\n",
      "------\n",
      "[]\n",
      "Nodes\n",
      "------\n",
      "[]\n",
      "\n",
      "Stats lattice\n",
      "-------------\n",
      "nbr levels               : 40\n",
      "nbr lattice              : 0\n",
      "avg lattice[level]       : 0.0\n",
      "min lattice[level]       : 0\n",
      "max lattice[level]       : 0\n"
     ]
    }
   ],
   "source": [
    "# from leuvenmapmatching.matcher.distance import DistanceMatcher\n",
    "# from leuvenmapmatching.map.inmem import InMemMap\n",
    "\n",
    "# import osmnx as ox\n",
    "# graph = ox.graph_from_place('Leuven, Belgium', network_type='bike', simplify=False)\n",
    "# graph_proj = ox.project_graph(graph)\n",
    "\n",
    "# map_con = InMemMap(\"myosm\", use_latlon=True, use_rtree=False, index_edges=True)\n",
    "\n",
    "# nodes_proj, edges_proj = ox.graph_to_gdfs(graph_proj, nodes=True, edges=True)\n",
    "# for nid, row in nodes_proj[['x', 'y']].iterrows():\n",
    "#     map_con.add_node(nid, (row['x'], row['y']))\n",
    "# for eid, _ in edges_proj.iterrows():\n",
    "#     map_con.add_edge(eid[0], eid[1])\n",
    "\n",
    "# # # Creation of the Leuven Map object from the OSM network\n",
    "# # map_con = InMemMap(\"myosm\", use_latlon=True, use_rtree=True, index_edges=True)\n",
    "# # # Add the OSM network into the Leuven Map object\n",
    "# # nodes_id = list(graph.nodes)\n",
    "# # for node in nodes_id:\n",
    "# #     lat = graph.nodes[node]['y']\n",
    "# #     lon = graph.nodes[node]['x']\n",
    "# #     map_con.add_node(node, (lat, lon))\n",
    "# # edges_id = list(graph.edges)\n",
    "# # for edge in edges_id:\n",
    "# #     node_a, node_b = edge[0], edge[1]\n",
    "# #     map_con.add_edge(node_a, node_b)\n",
    "# #     map_con.add_edge(node_b, node_a)\n",
    "\n",
    "# # map_con.purge()\n",
    "\n",
    "\n",
    "\n",
    "# matcher = DistanceMatcher(map_con, max_dist=2, obs_noise=1, min_prob_norm=0.5)\n",
    "# states, _ = matcher.match(path)\n",
    "# nodes = matcher.path_pred_onlynodes\n",
    "\n",
    "# print(\"States\\n------\")\n",
    "# print(states)\n",
    "# print(\"Nodes\\n------\")\n",
    "# print(nodes)\n",
    "# print(\"\")\n",
    "# matcher.print_lattice_stats()"
   ]
  },
  {
   "cell_type": "code",
   "execution_count": 9,
   "metadata": {},
   "outputs": [],
   "source": [
    "# import osmnx as ox\n",
    "# graph = ox.graph_from_place('Shanghai, China', network_type='drive', simplify=False)\n",
    "# graph_proj = ox.project_graph(graph)"
   ]
  },
  {
   "cell_type": "code",
   "execution_count": 10,
   "metadata": {},
   "outputs": [],
   "source": [
    "# from leuvenmapmatching.matcher.distance import DistanceMatcher\n",
    "# from leuvenmapmatching.map.inmem import InMemMap\n",
    "# map_con = InMemMap(\"myosm\", use_latlon=True)#, use_rtree=True, index_edges=True)\n",
    "\n",
    "# # Approach 2\n",
    "# nodes, edges = ox.graph_to_gdfs(graph_proj, nodes=True, edges=True)\n",
    "# nodes_proj = nodes.to_crs(\"EPSG:3395\")\n",
    "# edges_proj = edges.to_crs(\"EPSG:3395\")\n",
    "# for nid, row in nodes_proj.iterrows():\n",
    "#     map_con.add_node(nid, (row['lat'], row['lon']))"
   ]
  },
  {
   "cell_type": "code",
   "execution_count": 11,
   "metadata": {},
   "outputs": [
    {
     "name": "stderr",
     "output_type": "stream",
     "text": [
      "Searching closeby nodes with linear search, use an index and set max_dist\n"
     ]
    },
    {
     "ename": "ValueError",
     "evalue": "math domain error",
     "output_type": "error",
     "traceback": [
      "\u001b[1;31m---------------------------------------------------------------------------\u001b[0m",
      "\u001b[1;31mValueError\u001b[0m                                Traceback (most recent call last)",
      "\u001b[1;32mc:\\Users\\osneb\\OneDrive\\Desktop\\Universidad\\Master\\Urban Computing\\Project\\UC-Project-Group-1\\Trajectory Planning.ipynb Cell 14\u001b[0m line \u001b[0;36m2\n\u001b[0;32m      <a href='vscode-notebook-cell:/c%3A/Users/osneb/OneDrive/Desktop/Universidad/Master/Urban%20Computing/Project/UC-Project-Group-1/Trajectory%20Planning.ipynb#X14sZmlsZQ%3D%3D?line=0'>1</a>\u001b[0m matcher \u001b[39m=\u001b[39m DistanceMatcher(map_con)\n\u001b[1;32m----> <a href='vscode-notebook-cell:/c%3A/Users/osneb/OneDrive/Desktop/Universidad/Master/Urban%20Computing/Project/UC-Project-Group-1/Trajectory%20Planning.ipynb#X14sZmlsZQ%3D%3D?line=1'>2</a>\u001b[0m states, _ \u001b[39m=\u001b[39m matcher\u001b[39m.\u001b[39;49mmatch(path)\n\u001b[0;32m      <a href='vscode-notebook-cell:/c%3A/Users/osneb/OneDrive/Desktop/Universidad/Master/Urban%20Computing/Project/UC-Project-Group-1/Trajectory%20Planning.ipynb#X14sZmlsZQ%3D%3D?line=2'>3</a>\u001b[0m nodes \u001b[39m=\u001b[39m matcher\u001b[39m.\u001b[39mpath_pred_onlynodes\n\u001b[0;32m      <a href='vscode-notebook-cell:/c%3A/Users/osneb/OneDrive/Desktop/Universidad/Master/Urban%20Computing/Project/UC-Project-Group-1/Trajectory%20Planning.ipynb#X14sZmlsZQ%3D%3D?line=4'>5</a>\u001b[0m \u001b[39mprint\u001b[39m(\u001b[39m\"\u001b[39m\u001b[39mStates\u001b[39m\u001b[39m\\n\u001b[39;00m\u001b[39m------\u001b[39m\u001b[39m\"\u001b[39m)\n",
      "File \u001b[1;32mc:\\Users\\osneb\\AppData\\Local\\Programs\\Python\\Python38\\lib\\site-packages\\leuvenmapmatching\\matcher\\base.py:585\u001b[0m, in \u001b[0;36mBaseMatcher.match\u001b[1;34m(self, path, unique, tqdm, expand)\u001b[0m\n\u001b[0;32m    582\u001b[0m     \u001b[39mself\u001b[39m\u001b[39m.\u001b[39mpath \u001b[39m=\u001b[39m path\n\u001b[0;32m    583\u001b[0m     \u001b[39mself\u001b[39m\u001b[39m.\u001b[39mexpand_now \u001b[39m=\u001b[39m \u001b[39m0\u001b[39m\n\u001b[1;32m--> 585\u001b[0m nb_start_nodes \u001b[39m=\u001b[39m \u001b[39mself\u001b[39;49m\u001b[39m.\u001b[39;49m_create_start_nodes(use_edges\u001b[39m=\u001b[39;49m\u001b[39mself\u001b[39;49m\u001b[39m.\u001b[39;49monly_edges)\n\u001b[0;32m    586\u001b[0m \u001b[39mif\u001b[39;00m nb_start_nodes \u001b[39m==\u001b[39m \u001b[39m0\u001b[39m:\n\u001b[0;32m    587\u001b[0m     \u001b[39mself\u001b[39m\u001b[39m.\u001b[39mlattice_best \u001b[39m=\u001b[39m []\n",
      "File \u001b[1;32mc:\\Users\\osneb\\AppData\\Local\\Programs\\Python\\Python38\\lib\\site-packages\\leuvenmapmatching\\matcher\\base.py:670\u001b[0m, in \u001b[0;36mBaseMatcher._create_start_nodes\u001b[1;34m(self, use_edges)\u001b[0m\n\u001b[0;32m    667\u001b[0m     \u001b[39mself\u001b[39m\u001b[39m.\u001b[39mlattice[obs_idx] \u001b[39m=\u001b[39m LatticeColumn(obs_idx)\n\u001b[0;32m    669\u001b[0m \u001b[39mif\u001b[39;00m use_edges:\n\u001b[1;32m--> 670\u001b[0m     nodes \u001b[39m=\u001b[39m \u001b[39mself\u001b[39;49m\u001b[39m.\u001b[39;49mmap\u001b[39m.\u001b[39;49medges_closeto(\u001b[39mself\u001b[39;49m\u001b[39m.\u001b[39;49mpath[\u001b[39m0\u001b[39;49m], max_dist\u001b[39m=\u001b[39;49m\u001b[39mself\u001b[39;49m\u001b[39m.\u001b[39;49mmax_dist_init)\n\u001b[0;32m    671\u001b[0m \u001b[39melse\u001b[39;00m:\n\u001b[0;32m    672\u001b[0m     nodes \u001b[39m=\u001b[39m \u001b[39mself\u001b[39m\u001b[39m.\u001b[39mmap\u001b[39m.\u001b[39mnodes_closeto(\u001b[39mself\u001b[39m\u001b[39m.\u001b[39mpath[\u001b[39m0\u001b[39m], max_dist\u001b[39m=\u001b[39m\u001b[39mself\u001b[39m\u001b[39m.\u001b[39mmax_dist_init)\n",
      "File \u001b[1;32mc:\\Users\\osneb\\AppData\\Local\\Programs\\Python\\Python38\\lib\\site-packages\\leuvenmapmatching\\map\\inmem.py:492\u001b[0m, in \u001b[0;36mInMemMap.edges_closeto\u001b[1;34m(self, loc, max_dist, max_elmt)\u001b[0m\n\u001b[0;32m    490\u001b[0m logger\u001b[39m.\u001b[39mwarning(\u001b[39m\"\u001b[39m\u001b[39mSearching closeby nodes with linear search, use an index and set max_dist\u001b[39m\u001b[39m\"\u001b[39m)\n\u001b[0;32m    491\u001b[0m \u001b[39mif\u001b[39;00m max_dist \u001b[39mis\u001b[39;00m \u001b[39mnot\u001b[39;00m \u001b[39mNone\u001b[39;00m:\n\u001b[1;32m--> 492\u001b[0m     bb \u001b[39m=\u001b[39m \u001b[39mself\u001b[39;49m\u001b[39m.\u001b[39;49mbox_around_point((lat, lon), max_dist)\n\u001b[0;32m    493\u001b[0m     nodes \u001b[39m=\u001b[39m (key \u001b[39mfor\u001b[39;00m key, _ \u001b[39min\u001b[39;00m \u001b[39mself\u001b[39m\u001b[39m.\u001b[39m_items_in_bb(bb))\n\u001b[0;32m    494\u001b[0m \u001b[39melse\u001b[39;00m:\n",
      "File \u001b[1;32mc:\\Users\\osneb\\AppData\\Local\\Programs\\Python\\Python38\\lib\\site-packages\\leuvenmapmatching\\util\\dist_latlon.py:153\u001b[0m, in \u001b[0;36mbox_around_point\u001b[1;34m(p, dist)\u001b[0m\n\u001b[0;32m    151\u001b[0m \u001b[39m# diag_dist = sqrt(2 * dist ** 2)\u001b[39;00m\n\u001b[0;32m    152\u001b[0m diag_dist \u001b[39m=\u001b[39m dist\n\u001b[1;32m--> 153\u001b[0m lat_t, lon_r \u001b[39m=\u001b[39m destination_radians(latr, lonr, radians(\u001b[39m45\u001b[39;49m), diag_dist)\n\u001b[0;32m    154\u001b[0m lat_b, lon_l \u001b[39m=\u001b[39m destination_radians(latr, lonr, radians(\u001b[39m225\u001b[39m), diag_dist)\n\u001b[0;32m    155\u001b[0m lat_t, lon_r \u001b[39m=\u001b[39m degrees(lat_t), degrees(lon_r)\n",
      "File \u001b[1;32mc:\\Users\\osneb\\AppData\\Local\\Programs\\Python\\Python38\\lib\\site-packages\\leuvenmapmatching\\util\\dist_latlon.py:206\u001b[0m, in \u001b[0;36mdestination_radians\u001b[1;34m(lat1, lon1, bearing, dist)\u001b[0m\n\u001b[0;32m    204\u001b[0m \u001b[39mdef\u001b[39;00m \u001b[39mdestination_radians\u001b[39m(lat1, lon1, bearing, dist):\n\u001b[0;32m    205\u001b[0m     d \u001b[39m=\u001b[39m dist \u001b[39m/\u001b[39m earth_radius\n\u001b[1;32m--> 206\u001b[0m     lat2 \u001b[39m=\u001b[39m asin(sin(lat1) \u001b[39m*\u001b[39m cos(d) \u001b[39m+\u001b[39m cos(lat1) \u001b[39m*\u001b[39m sin(d) \u001b[39m*\u001b[39m cos(bearing))\n\u001b[0;32m    207\u001b[0m     lon2 \u001b[39m=\u001b[39m lon1 \u001b[39m+\u001b[39m atan2(sin(bearing) \u001b[39m*\u001b[39m sin(d) \u001b[39m*\u001b[39m cos(lat1), cos(d) \u001b[39m-\u001b[39m sin(lat1) \u001b[39m*\u001b[39m sin(lat2))\n\u001b[0;32m    208\u001b[0m     \u001b[39mreturn\u001b[39;00m lat2, lon2\n",
      "\u001b[1;31mValueError\u001b[0m: math domain error"
     ]
    }
   ],
   "source": [
    "# matcher = DistanceMatcher(map_con)\n",
    "# states, _ = matcher.match(path)\n",
    "# nodes = matcher.path_pred_onlynodes\n",
    "\n",
    "# print(\"States\\n------\")\n",
    "# print(states)\n",
    "# print(\"Nodes\\n------\")\n",
    "# print(nodes)\n",
    "# print(\"\")\n",
    "# matcher.print_lattice_stats()"
   ]
  },
  {
   "cell_type": "code",
   "execution_count": 19,
   "metadata": {},
   "outputs": [
    {
     "name": "stdout",
     "output_type": "stream",
     "text": [
      "Loading map ...\n",
      "Projecting map ...\n",
      "Parsing graph ...\n"
     ]
    },
    {
     "name": "stderr",
     "output_type": "stream",
     "text": [
      "Searching closeby nodes with linear search, use an index and set max_dist\n"
     ]
    },
    {
     "name": "stdout",
     "output_type": "stream",
     "text": [
      "Map matching ... \n"
     ]
    },
    {
     "ename": "ValueError",
     "evalue": "math domain error",
     "output_type": "error",
     "traceback": [
      "\u001b[1;31m---------------------------------------------------------------------------\u001b[0m",
      "\u001b[1;31mValueError\u001b[0m                                Traceback (most recent call last)",
      "\u001b[1;32mc:\\Users\\osneb\\OneDrive\\Desktop\\Universidad\\Master\\Urban Computing\\Project\\UC-Project-Group-1\\Trajectory Planning.ipynb Cell 14\u001b[0m line \u001b[0;36m2\n\u001b[0;32m     <a href='vscode-notebook-cell:/c%3A/Users/osneb/OneDrive/Desktop/Universidad/Master/Urban%20Computing/Project/UC-Project-Group-1/Trajectory%20Planning.ipynb#X20sZmlsZQ%3D%3D?line=18'>19</a>\u001b[0m \u001b[39mprint\u001b[39m(\u001b[39m\"\u001b[39m\u001b[39mMap matching ... \u001b[39m\u001b[39m\"\u001b[39m)\n\u001b[0;32m     <a href='vscode-notebook-cell:/c%3A/Users/osneb/OneDrive/Desktop/Universidad/Master/Urban%20Computing/Project/UC-Project-Group-1/Trajectory%20Planning.ipynb#X20sZmlsZQ%3D%3D?line=19'>20</a>\u001b[0m matcher \u001b[39m=\u001b[39m DistanceMatcher(map_con)\n\u001b[1;32m---> <a href='vscode-notebook-cell:/c%3A/Users/osneb/OneDrive/Desktop/Universidad/Master/Urban%20Computing/Project/UC-Project-Group-1/Trajectory%20Planning.ipynb#X20sZmlsZQ%3D%3D?line=20'>21</a>\u001b[0m states, _ \u001b[39m=\u001b[39m matcher\u001b[39m.\u001b[39;49mmatch(path)\n\u001b[0;32m     <a href='vscode-notebook-cell:/c%3A/Users/osneb/OneDrive/Desktop/Universidad/Master/Urban%20Computing/Project/UC-Project-Group-1/Trajectory%20Planning.ipynb#X20sZmlsZQ%3D%3D?line=21'>22</a>\u001b[0m nodes \u001b[39m=\u001b[39m matcher\u001b[39m.\u001b[39mpath_pred_onlynodes\n\u001b[0;32m     <a href='vscode-notebook-cell:/c%3A/Users/osneb/OneDrive/Desktop/Universidad/Master/Urban%20Computing/Project/UC-Project-Group-1/Trajectory%20Planning.ipynb#X20sZmlsZQ%3D%3D?line=23'>24</a>\u001b[0m \u001b[39mprint\u001b[39m(\u001b[39m\"\u001b[39m\u001b[39mStates\u001b[39m\u001b[39m\\n\u001b[39;00m\u001b[39m------\u001b[39m\u001b[39m\"\u001b[39m)\n",
      "File \u001b[1;32mc:\\Users\\osneb\\AppData\\Local\\Programs\\Python\\Python38\\lib\\site-packages\\leuvenmapmatching\\matcher\\base.py:585\u001b[0m, in \u001b[0;36mBaseMatcher.match\u001b[1;34m(self, path, unique, tqdm, expand)\u001b[0m\n\u001b[0;32m    582\u001b[0m     \u001b[39mself\u001b[39m\u001b[39m.\u001b[39mpath \u001b[39m=\u001b[39m path\n\u001b[0;32m    583\u001b[0m     \u001b[39mself\u001b[39m\u001b[39m.\u001b[39mexpand_now \u001b[39m=\u001b[39m \u001b[39m0\u001b[39m\n\u001b[1;32m--> 585\u001b[0m nb_start_nodes \u001b[39m=\u001b[39m \u001b[39mself\u001b[39;49m\u001b[39m.\u001b[39;49m_create_start_nodes(use_edges\u001b[39m=\u001b[39;49m\u001b[39mself\u001b[39;49m\u001b[39m.\u001b[39;49monly_edges)\n\u001b[0;32m    586\u001b[0m \u001b[39mif\u001b[39;00m nb_start_nodes \u001b[39m==\u001b[39m \u001b[39m0\u001b[39m:\n\u001b[0;32m    587\u001b[0m     \u001b[39mself\u001b[39m\u001b[39m.\u001b[39mlattice_best \u001b[39m=\u001b[39m []\n",
      "File \u001b[1;32mc:\\Users\\osneb\\AppData\\Local\\Programs\\Python\\Python38\\lib\\site-packages\\leuvenmapmatching\\matcher\\base.py:670\u001b[0m, in \u001b[0;36mBaseMatcher._create_start_nodes\u001b[1;34m(self, use_edges)\u001b[0m\n\u001b[0;32m    667\u001b[0m     \u001b[39mself\u001b[39m\u001b[39m.\u001b[39mlattice[obs_idx] \u001b[39m=\u001b[39m LatticeColumn(obs_idx)\n\u001b[0;32m    669\u001b[0m \u001b[39mif\u001b[39;00m use_edges:\n\u001b[1;32m--> 670\u001b[0m     nodes \u001b[39m=\u001b[39m \u001b[39mself\u001b[39;49m\u001b[39m.\u001b[39;49mmap\u001b[39m.\u001b[39;49medges_closeto(\u001b[39mself\u001b[39;49m\u001b[39m.\u001b[39;49mpath[\u001b[39m0\u001b[39;49m], max_dist\u001b[39m=\u001b[39;49m\u001b[39mself\u001b[39;49m\u001b[39m.\u001b[39;49mmax_dist_init)\n\u001b[0;32m    671\u001b[0m \u001b[39melse\u001b[39;00m:\n\u001b[0;32m    672\u001b[0m     nodes \u001b[39m=\u001b[39m \u001b[39mself\u001b[39m\u001b[39m.\u001b[39mmap\u001b[39m.\u001b[39mnodes_closeto(\u001b[39mself\u001b[39m\u001b[39m.\u001b[39mpath[\u001b[39m0\u001b[39m], max_dist\u001b[39m=\u001b[39m\u001b[39mself\u001b[39m\u001b[39m.\u001b[39mmax_dist_init)\n",
      "File \u001b[1;32mc:\\Users\\osneb\\AppData\\Local\\Programs\\Python\\Python38\\lib\\site-packages\\leuvenmapmatching\\map\\inmem.py:492\u001b[0m, in \u001b[0;36mInMemMap.edges_closeto\u001b[1;34m(self, loc, max_dist, max_elmt)\u001b[0m\n\u001b[0;32m    490\u001b[0m logger\u001b[39m.\u001b[39mwarning(\u001b[39m\"\u001b[39m\u001b[39mSearching closeby nodes with linear search, use an index and set max_dist\u001b[39m\u001b[39m\"\u001b[39m)\n\u001b[0;32m    491\u001b[0m \u001b[39mif\u001b[39;00m max_dist \u001b[39mis\u001b[39;00m \u001b[39mnot\u001b[39;00m \u001b[39mNone\u001b[39;00m:\n\u001b[1;32m--> 492\u001b[0m     bb \u001b[39m=\u001b[39m \u001b[39mself\u001b[39;49m\u001b[39m.\u001b[39;49mbox_around_point((lat, lon), max_dist)\n\u001b[0;32m    493\u001b[0m     nodes \u001b[39m=\u001b[39m (key \u001b[39mfor\u001b[39;00m key, _ \u001b[39min\u001b[39;00m \u001b[39mself\u001b[39m\u001b[39m.\u001b[39m_items_in_bb(bb))\n\u001b[0;32m    494\u001b[0m \u001b[39melse\u001b[39;00m:\n",
      "File \u001b[1;32mc:\\Users\\osneb\\AppData\\Local\\Programs\\Python\\Python38\\lib\\site-packages\\leuvenmapmatching\\util\\dist_latlon.py:153\u001b[0m, in \u001b[0;36mbox_around_point\u001b[1;34m(p, dist)\u001b[0m\n\u001b[0;32m    151\u001b[0m \u001b[39m# diag_dist = sqrt(2 * dist ** 2)\u001b[39;00m\n\u001b[0;32m    152\u001b[0m diag_dist \u001b[39m=\u001b[39m dist\n\u001b[1;32m--> 153\u001b[0m lat_t, lon_r \u001b[39m=\u001b[39m destination_radians(latr, lonr, radians(\u001b[39m45\u001b[39;49m), diag_dist)\n\u001b[0;32m    154\u001b[0m lat_b, lon_l \u001b[39m=\u001b[39m destination_radians(latr, lonr, radians(\u001b[39m225\u001b[39m), diag_dist)\n\u001b[0;32m    155\u001b[0m lat_t, lon_r \u001b[39m=\u001b[39m degrees(lat_t), degrees(lon_r)\n",
      "File \u001b[1;32mc:\\Users\\osneb\\AppData\\Local\\Programs\\Python\\Python38\\lib\\site-packages\\leuvenmapmatching\\util\\dist_latlon.py:206\u001b[0m, in \u001b[0;36mdestination_radians\u001b[1;34m(lat1, lon1, bearing, dist)\u001b[0m\n\u001b[0;32m    204\u001b[0m \u001b[39mdef\u001b[39;00m \u001b[39mdestination_radians\u001b[39m(lat1, lon1, bearing, dist):\n\u001b[0;32m    205\u001b[0m     d \u001b[39m=\u001b[39m dist \u001b[39m/\u001b[39m earth_radius\n\u001b[1;32m--> 206\u001b[0m     lat2 \u001b[39m=\u001b[39m asin(sin(lat1) \u001b[39m*\u001b[39m cos(d) \u001b[39m+\u001b[39m cos(lat1) \u001b[39m*\u001b[39m sin(d) \u001b[39m*\u001b[39m cos(bearing))\n\u001b[0;32m    207\u001b[0m     lon2 \u001b[39m=\u001b[39m lon1 \u001b[39m+\u001b[39m atan2(sin(bearing) \u001b[39m*\u001b[39m sin(d) \u001b[39m*\u001b[39m cos(lat1), cos(d) \u001b[39m-\u001b[39m sin(lat1) \u001b[39m*\u001b[39m sin(lat2))\n\u001b[0;32m    208\u001b[0m     \u001b[39mreturn\u001b[39;00m lat2, lon2\n",
      "\u001b[1;31mValueError\u001b[0m: math domain error"
     ]
    }
   ],
   "source": [
    "import time\n",
    "from leuvenmapmatching.map.inmem import InMemMap\n",
    "from leuvenmapmatching.matcher.distance import DistanceMatcher\n",
    "import osmnx as ox\n",
    "\n",
    "tic=time.time()\n",
    "print(\"Loading map ...\")\n",
    "graph = ox.graph_from_place('Shanghai, China', network_type='drive', simplify=False)\n",
    "print(\"Projecting map ...\")\n",
    "graph_proj = ox.project_graph(graph)\n"
   ]
  },
  {
   "cell_type": "code",
   "execution_count": 44,
   "metadata": {},
   "outputs": [
    {
     "name": "stdout",
     "output_type": "stream",
     "text": [
      "Parsing graph ...\n"
     ]
    },
    {
     "ename": "KeyError",
     "evalue": "'x'",
     "output_type": "error",
     "traceback": [
      "\u001b[1;31m---------------------------------------------------------------------------\u001b[0m",
      "\u001b[1;31mKeyError\u001b[0m                                  Traceback (most recent call last)",
      "File \u001b[1;32mc:\\Users\\osneb\\AppData\\Local\\Programs\\Python\\Python38\\lib\\site-packages\\pandas\\core\\indexes\\base.py:3652\u001b[0m, in \u001b[0;36mIndex.get_loc\u001b[1;34m(self, key)\u001b[0m\n\u001b[0;32m   3651\u001b[0m \u001b[39mtry\u001b[39;00m:\n\u001b[1;32m-> 3652\u001b[0m     \u001b[39mreturn\u001b[39;00m \u001b[39mself\u001b[39;49m\u001b[39m.\u001b[39;49m_engine\u001b[39m.\u001b[39;49mget_loc(casted_key)\n\u001b[0;32m   3653\u001b[0m \u001b[39mexcept\u001b[39;00m \u001b[39mKeyError\u001b[39;00m \u001b[39mas\u001b[39;00m err:\n",
      "File \u001b[1;32mc:\\Users\\osneb\\AppData\\Local\\Programs\\Python\\Python38\\lib\\site-packages\\pandas\\_libs\\index.pyx:147\u001b[0m, in \u001b[0;36mpandas._libs.index.IndexEngine.get_loc\u001b[1;34m()\u001b[0m\n",
      "File \u001b[1;32mc:\\Users\\osneb\\AppData\\Local\\Programs\\Python\\Python38\\lib\\site-packages\\pandas\\_libs\\index.pyx:176\u001b[0m, in \u001b[0;36mpandas._libs.index.IndexEngine.get_loc\u001b[1;34m()\u001b[0m\n",
      "File \u001b[1;32mpandas\\_libs\\hashtable_class_helper.pxi:7080\u001b[0m, in \u001b[0;36mpandas._libs.hashtable.PyObjectHashTable.get_item\u001b[1;34m()\u001b[0m\n",
      "File \u001b[1;32mpandas\\_libs\\hashtable_class_helper.pxi:7088\u001b[0m, in \u001b[0;36mpandas._libs.hashtable.PyObjectHashTable.get_item\u001b[1;34m()\u001b[0m\n",
      "\u001b[1;31mKeyError\u001b[0m: 'x'",
      "\nThe above exception was the direct cause of the following exception:\n",
      "\u001b[1;31mKeyError\u001b[0m                                  Traceback (most recent call last)",
      "\u001b[1;32mc:\\Users\\osneb\\OneDrive\\Desktop\\Universidad\\Master\\Urban Computing\\Project\\UC-Project-Group-1\\Trajectory Planning.ipynb Cell 15\u001b[0m line \u001b[0;36m6\n\u001b[0;32m      <a href='vscode-notebook-cell:/c%3A/Users/osneb/OneDrive/Desktop/Universidad/Master/Urban%20Computing/Project/UC-Project-Group-1/Trajectory%20Planning.ipynb#X21sZmlsZQ%3D%3D?line=3'>4</a>\u001b[0m nodes_proj, edges_proj \u001b[39m=\u001b[39m ox\u001b[39m.\u001b[39mgraph_to_gdfs(graph_proj, nodes\u001b[39m=\u001b[39m\u001b[39mTrue\u001b[39;00m, edges\u001b[39m=\u001b[39m\u001b[39mTrue\u001b[39;00m)\n\u001b[0;32m      <a href='vscode-notebook-cell:/c%3A/Users/osneb/OneDrive/Desktop/Universidad/Master/Urban%20Computing/Project/UC-Project-Group-1/Trajectory%20Planning.ipynb#X21sZmlsZQ%3D%3D?line=4'>5</a>\u001b[0m \u001b[39mfor\u001b[39;00m nid, row \u001b[39min\u001b[39;00m nodes_proj[[\u001b[39m'\u001b[39m\u001b[39mlon\u001b[39m\u001b[39m'\u001b[39m, \u001b[39m'\u001b[39m\u001b[39mlat\u001b[39m\u001b[39m'\u001b[39m]]\u001b[39m.\u001b[39miterrows():\n\u001b[1;32m----> <a href='vscode-notebook-cell:/c%3A/Users/osneb/OneDrive/Desktop/Universidad/Master/Urban%20Computing/Project/UC-Project-Group-1/Trajectory%20Planning.ipynb#X21sZmlsZQ%3D%3D?line=5'>6</a>\u001b[0m     map_con\u001b[39m.\u001b[39madd_node(nid, (row[\u001b[39m'\u001b[39;49m\u001b[39mx\u001b[39;49m\u001b[39m'\u001b[39;49m], row[\u001b[39m'\u001b[39m\u001b[39my\u001b[39m\u001b[39m'\u001b[39m]))\n\u001b[0;32m      <a href='vscode-notebook-cell:/c%3A/Users/osneb/OneDrive/Desktop/Universidad/Master/Urban%20Computing/Project/UC-Project-Group-1/Trajectory%20Planning.ipynb#X21sZmlsZQ%3D%3D?line=6'>7</a>\u001b[0m \u001b[39mfor\u001b[39;00m eid, _ \u001b[39min\u001b[39;00m edges_proj\u001b[39m.\u001b[39miterrows():\n\u001b[0;32m      <a href='vscode-notebook-cell:/c%3A/Users/osneb/OneDrive/Desktop/Universidad/Master/Urban%20Computing/Project/UC-Project-Group-1/Trajectory%20Planning.ipynb#X21sZmlsZQ%3D%3D?line=7'>8</a>\u001b[0m     map_con\u001b[39m.\u001b[39madd_edge(eid[\u001b[39m0\u001b[39m], eid[\u001b[39m1\u001b[39m])\n",
      "File \u001b[1;32mc:\\Users\\osneb\\AppData\\Local\\Programs\\Python\\Python38\\lib\\site-packages\\pandas\\core\\series.py:1007\u001b[0m, in \u001b[0;36mSeries.__getitem__\u001b[1;34m(self, key)\u001b[0m\n\u001b[0;32m   1004\u001b[0m     \u001b[39mreturn\u001b[39;00m \u001b[39mself\u001b[39m\u001b[39m.\u001b[39m_values[key]\n\u001b[0;32m   1006\u001b[0m \u001b[39melif\u001b[39;00m key_is_scalar:\n\u001b[1;32m-> 1007\u001b[0m     \u001b[39mreturn\u001b[39;00m \u001b[39mself\u001b[39;49m\u001b[39m.\u001b[39;49m_get_value(key)\n\u001b[0;32m   1009\u001b[0m \u001b[39mif\u001b[39;00m is_hashable(key):\n\u001b[0;32m   1010\u001b[0m     \u001b[39m# Otherwise index.get_value will raise InvalidIndexError\u001b[39;00m\n\u001b[0;32m   1011\u001b[0m     \u001b[39mtry\u001b[39;00m:\n\u001b[0;32m   1012\u001b[0m         \u001b[39m# For labels that don't resolve as scalars like tuples and frozensets\u001b[39;00m\n",
      "File \u001b[1;32mc:\\Users\\osneb\\AppData\\Local\\Programs\\Python\\Python38\\lib\\site-packages\\pandas\\core\\series.py:1116\u001b[0m, in \u001b[0;36mSeries._get_value\u001b[1;34m(self, label, takeable)\u001b[0m\n\u001b[0;32m   1113\u001b[0m     \u001b[39mreturn\u001b[39;00m \u001b[39mself\u001b[39m\u001b[39m.\u001b[39m_values[label]\n\u001b[0;32m   1115\u001b[0m \u001b[39m# Similar to Index.get_value, but we do not fall back to positional\u001b[39;00m\n\u001b[1;32m-> 1116\u001b[0m loc \u001b[39m=\u001b[39m \u001b[39mself\u001b[39;49m\u001b[39m.\u001b[39;49mindex\u001b[39m.\u001b[39;49mget_loc(label)\n\u001b[0;32m   1118\u001b[0m \u001b[39mif\u001b[39;00m is_integer(loc):\n\u001b[0;32m   1119\u001b[0m     \u001b[39mreturn\u001b[39;00m \u001b[39mself\u001b[39m\u001b[39m.\u001b[39m_values[loc]\n",
      "File \u001b[1;32mc:\\Users\\osneb\\AppData\\Local\\Programs\\Python\\Python38\\lib\\site-packages\\pandas\\core\\indexes\\base.py:3654\u001b[0m, in \u001b[0;36mIndex.get_loc\u001b[1;34m(self, key)\u001b[0m\n\u001b[0;32m   3652\u001b[0m     \u001b[39mreturn\u001b[39;00m \u001b[39mself\u001b[39m\u001b[39m.\u001b[39m_engine\u001b[39m.\u001b[39mget_loc(casted_key)\n\u001b[0;32m   3653\u001b[0m \u001b[39mexcept\u001b[39;00m \u001b[39mKeyError\u001b[39;00m \u001b[39mas\u001b[39;00m err:\n\u001b[1;32m-> 3654\u001b[0m     \u001b[39mraise\u001b[39;00m \u001b[39mKeyError\u001b[39;00m(key) \u001b[39mfrom\u001b[39;00m \u001b[39merr\u001b[39;00m\n\u001b[0;32m   3655\u001b[0m \u001b[39mexcept\u001b[39;00m \u001b[39mTypeError\u001b[39;00m:\n\u001b[0;32m   3656\u001b[0m     \u001b[39m# If we have a listlike key, _check_indexing_error will raise\u001b[39;00m\n\u001b[0;32m   3657\u001b[0m     \u001b[39m#  InvalidIndexError. Otherwise we fall through and re-raise\u001b[39;00m\n\u001b[0;32m   3658\u001b[0m     \u001b[39m#  the TypeError.\u001b[39;00m\n\u001b[0;32m   3659\u001b[0m     \u001b[39mself\u001b[39m\u001b[39m.\u001b[39m_check_indexing_error(key)\n",
      "\u001b[1;31mKeyError\u001b[0m: 'x'"
     ]
    }
   ],
   "source": [
    "print(\"Parsing graph ...\")\n",
    "\n",
    "nodes_proj, edges_proj = ox.graph_to_gdfs(graph_proj, nodes=True, edges=True)\n"
   ]
  },
  {
   "cell_type": "code",
   "execution_count": 45,
   "metadata": {},
   "outputs": [],
   "source": [
    "map_con = InMemMap(\"myosm\", use_latlon=True, use_rtree=False, index_edges=True)\n",
    "\n",
    "for nid, row in nodes_proj[['lon', 'lat']].iterrows():\n",
    "    map_con.add_node(nid, (row['lon'], row['lat']))\n",
    "for eid, _ in edges_proj.iterrows():\n",
    "    map_con.add_edge(eid[0], eid[1])\n"
   ]
  },
  {
   "cell_type": "code",
   "execution_count": 48,
   "metadata": {},
   "outputs": [
    {
     "name": "stdout",
     "output_type": "stream",
     "text": [
      "Map matching ... \n",
      "Searching closeby nodes with linear search, use an index and set max_dist\n",
      "Searching closeby nodes with linear search, use an index and set max_dist\n",
      "Searching closeby nodes with linear search, use an index and set max_dist\n",
      "Searching closeby nodes with linear search, use an index and set max_dist\n",
      "Searching closeby nodes with linear search, use an index and set max_dist\n",
      "Searching closeby nodes with linear search, use an index and set max_dist\n",
      "Searching closeby nodes with linear search, use an index and set max_dist\n"
     ]
    }
   ],
   "source": [
    "from leuvenmapmatching import logger,logging\n",
    "import sys\n",
    "\n",
    "print(\"Map matching ... \")\n",
    "\n",
    "logger.setLevel(logging.INFO)\n",
    "logger.addHandler(logging.StreamHandler(sys.stdout))\n",
    "\n",
    "matcher = DistanceMatcher(map_con, max_dist=0.1, obs_noise=1, min_prob_norm=0.5)\n",
    "states, _ = matcher.match(path)\n",
    "nodes = matcher.path_pred_onlynodes\n",
    "\n",
    "print(\"States\\n------\")\n",
    "print(states)\n",
    "print(\"Nodes\\n------\")\n",
    "print(nodes)\n",
    "print(\"\")\n",
    "matcher.print_lattice_stats()\n"
   ]
  }
 ],
 "metadata": {
  "kernelspec": {
   "display_name": "Python 3 (ipykernel)",
   "language": "python",
   "name": "python3"
  },
  "language_info": {
   "codemirror_mode": {
    "name": "ipython",
    "version": 3
   },
   "file_extension": ".py",
   "mimetype": "text/x-python",
   "name": "python",
   "nbconvert_exporter": "python",
   "pygments_lexer": "ipython3",
   "version": "3.8.2"
  }
 },
 "nbformat": 4,
 "nbformat_minor": 4
}
