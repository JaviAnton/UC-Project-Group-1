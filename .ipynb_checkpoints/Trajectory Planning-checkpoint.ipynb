{
 "cells": [
  {
   "cell_type": "markdown",
   "metadata": {},
   "source": [
    "### UC-Project"
   ]
  },
  {
   "cell_type": "code",
   "execution_count": 19,
   "metadata": {},
   "outputs": [],
   "source": [
    "import pandas as pd\n",
    "import numpy as np\n",
    "import geopandas as gp\n",
    "import matplotlib.pyplot as plt"
   ]
  },
  {
   "cell_type": "code",
   "execution_count": 26,
   "metadata": {},
   "outputs": [
    {
     "data": {
      "text/plain": [
       "[<matplotlib.lines.Line2D at 0x296e6e63ac0>]"
      ]
     },
     "execution_count": 26,
     "metadata": {},
     "output_type": "execute_result"
    },
    {
     "data": {
      "image/png": "[encoded data removed]",
      "text/plain": [
       "<Figure size 640x480 with 1 Axes>"
      ]
     },
     "metadata": {},
     "output_type": "display_data"
    }
   ],
   "source": [
    "data_raw=pd.read_csv(\"data\\mobike_shanghai_sample_updated.csv\")\n",
    "traj_test=data_raw.loc[5,\"track\"]\n",
    "\n",
    "traj_test_parsed=np.array([p.split(',') for p in traj_test.split(\"#\")],dtype=float)\n",
    "\n",
    "# plt.plot(traj_test_parsed[:,0],traj_test_parsed[:,1])"
   ]
  },
  {
   "cell_type": "code",
   "execution_count": 33,
   "metadata": {},
   "outputs": [
    {
     "data": {
      "text/plain": [
       "['BadBoundsError',\n",
       " 'NoConvergeError',\n",
       " '__builtins__',\n",
       " '__cached__',\n",
       " '__doc__',\n",
       " '__file__',\n",
       " '__loader__',\n",
       " '__name__',\n",
       " '__package__',\n",
       " '__spec__',\n",
       " 'copysign',\n",
       " 'eps',\n",
       " 'float_info',\n",
       " 'zeroin']"
      ]
     },
     "execution_count": 33,
     "metadata": {},
     "output_type": "execute_result"
    }
   ],
   "source": [
    "import fmm\n",
    "dir(fmm)"
   ]
  },
  {
   "cell_type": "code",
   "execution_count": 30,
   "metadata": {},
   "outputs": [
    {
     "ename": "ImportError",
     "evalue": "cannot import name 'Network' from 'fmm' (C:\\Users\\osneb\\AppData\\Local\\Programs\\Python\\Python38\\lib\\site-packages\\fmm.py)",
     "output_type": "error",
     "traceback": [
      "\u001b[1;31m---------------------------------------------------------------------------\u001b[0m",
      "\u001b[1;31mImportError\u001b[0m                               Traceback (most recent call last)",
      "Cell \u001b[1;32mIn[30], line 4\u001b[0m\n\u001b[0;32m      1\u001b[0m \u001b[38;5;66;03m#!/usr/bin/python3\u001b[39;00m\n\u001b[0;32m      2\u001b[0m \u001b[38;5;66;03m# coding: utf-8\u001b[39;00m\n\u001b[1;32m----> 4\u001b[0m \u001b[38;5;28;01mfrom\u001b[39;00m \u001b[38;5;21;01mfmm\u001b[39;00m \u001b[38;5;28;01mimport\u001b[39;00m Network,NetworkGraph,FastMapMatch,FastMapMatchConfig,UBODT,UBODTGenAlgorithm\n\u001b[0;32m      5\u001b[0m \u001b[38;5;28;01mfrom\u001b[39;00m \u001b[38;5;21;01mfmm\u001b[39;00m \u001b[38;5;28;01mimport\u001b[39;00m GPSConfig,ResultConfig\n\u001b[0;32m      6\u001b[0m \u001b[38;5;28;01mimport\u001b[39;00m \u001b[38;5;21;01mglob\u001b[39;00m\n",
      "\u001b[1;31mImportError\u001b[0m: cannot import name 'Network' from 'fmm' (C:\\Users\\osneb\\AppData\\Local\\Programs\\Python\\Python38\\lib\\site-packages\\fmm.py)"
     ]
    }
   ],
   "source": [
    "#!/usr/bin/python3\n",
    "# coding: utf-8\n",
    "\n",
    "from fmm import Network,NetworkGraph,FastMapMatch,FastMapMatchConfig,UBODT,UBODTGenAlgorithm\n",
    "from fmm import GPSConfig,ResultConfig\n",
    "import glob\n",
    "from tqdm import tqdm\n",
    "import pandas as pd \n",
    "import geopandas as gpd\n",
    "import matplotlib.pyplot as plt\n",
    "import os \n",
    "from shapely import wkt\n",
    "import pickle as pk\n",
    "\n",
    "class matching:\n",
    "   \n",
    "    def __init__(self):\n",
    "        pass\n",
    "\n",
    "    def matching(self, traj_path,network_path):\n",
    "        k = 8\n",
    "        radius = 300/1.132e5\n",
    "        gps_error =50/1.132e5\n",
    "        input_config = GPSConfig()\n",
    "        input_config.id = \"order_id\"\n",
    "        input_config.timestamp='timestamp'\n",
    "        input_config.y='latitude'\n",
    "        input_config.x='longitude'\n",
    "\n",
    "        result_config=ResultConfig()\n",
    "        result_config.output_config.write_cpath=True\n",
    "        result_config.output_config.write_duration=True\n",
    "        result_config.output_config.write_ep=True\n",
    "        result_config.output_config.write_error=True\n",
    "        result_config.output_config.write_length=True\n",
    "        result_config.output_config.write_mgeom=True\n",
    "        result_config.output_config.write_offset=True\n",
    "        result_config.output_config.write_opath=True\n",
    "        result_config.output_config.write_pgeom=True\n",
    "        result_config.output_config.write_spdist=True\n",
    "        result_config.output_config.write_speed=True\n",
    "        result_config.output_config.write_tp=True\n",
    "        result_config.output_config.write_tpath=True\n",
    "\n",
    "        fmm_config = FastMapMatchConfig(k,radius,gps_error)\n",
    "        network = Network(network_path)\n",
    "        print(\"Nodes {} edges {}\".format(network.get_node_count(),network.get_edge_count())) \n",
    "        graph = NetworkGraph(network)   \n",
    "        ubodt_gen = UBODTGenAlgorithm(network,graph)\n",
    "        status = ubodt_gen.generate_ubodt(\"ubodt.txt\", 0.02, binary=False, use_omp=True)\n",
    "        print (status)\n",
    "        ubodt = UBODT.read_ubodt_csv(\"ubodt.txt\")\n",
    "        model = FastMapMatch(network,graph,ubodt)\n",
    "\n",
    "\n",
    "        traj_dict={\"order_id\":[],\"timestamp\":[],\"longitude\":[],\"latitude\":[]}\n",
    "        trajs=pk.load(open(traj_path,\"rb\"))\n",
    "\n",
    "        for idx,traj in enumerate(trajs):\n",
    "            for temp in traj[\"trajs\"]:\n",
    "                traj_dict[\"order_id\"].append(idx)\n",
    "                traj_dict[\"timestamp\"].append(temp[0])\n",
    "                traj_dict[\"longitude\"].append(temp[2])\n",
    "                traj_dict[\"latitude\"].append(temp[1])\n",
    "        df=pd.DataFrame(traj_dict)\n",
    "        df.to_csv(\"./FMM/gps.csv\",index=None,sep=';')\n",
    "        for file in tqdm(glob.glob('FMM/*')):\n",
    "   \n",
    "            input_config.file = file\n",
    "            input_config.gps_point=True\n",
    "            result_config.file = \"gps.txt\"\n",
    "            status = model.match_gps_file(input_config, result_config, fmm_config)\n",
    "            print(status)\n",
    "            result=pd.read_csv(\"gps.txt\",delimiter=\";\").dropna()\n",
    "            return result"
   ]
  }
 ],
 "metadata": {
  "kernelspec": {
   "display_name": "Python 3 (ipykernel)",
   "language": "python",
   "name": "python3"
  },
  "language_info": {
   "codemirror_mode": {
    "name": "ipython",
    "version": 3
   },
   "file_extension": ".py",
   "mimetype": "text/x-python",
   "name": "python",
   "nbconvert_exporter": "python",
   "pygments_lexer": "ipython3",
   "version": "3.8.2"
  }
 },
 "nbformat": 4,
 "nbformat_minor": 4
}
