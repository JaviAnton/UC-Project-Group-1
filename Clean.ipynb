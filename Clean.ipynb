{
 "cells": [
  {
   "cell_type": "code",
   "execution_count": 7,
   "metadata": {},
   "outputs": [],
   "source": [
    "import pandas as pd\n",
    "import numpy as np\n",
    "import geopandas as gp\n",
    "import matplotlib.pyplot as plt"
   ]
  },
  {
   "cell_type": "code",
   "execution_count": 8,
   "metadata": {},
   "outputs": [],
   "source": [
    "import networkx as nx\n",
    "import osmnx as ox\n",
    "\n",
    "ox.settings.log_console=True\n",
    "\n",
    "map_graph = ox.graph_from_place('Burgos, Spain', network_type='drive')\n",
    "largest_cc = max(nx.strongly_connected_components(map_graph), key=len)\n",
    "map_graph = map_graph.subgraph(largest_cc)"
   ]
  },
  {
   "cell_type": "markdown",
   "metadata": {},
   "source": [
    "METS"
   ]
  },
  {
   "cell_type": "code",
   "execution_count": 9,
   "metadata": {},
   "outputs": [],
   "source": [
    "def matrix_element_similarity(G,T):\n",
    "    M=np.zeros((len(T),len(T)))\n",
    "    G_aux=G.copy()\n",
    "\n",
    "    for i,track_i in enumerate(T):\n",
    "        for j,track_j in enumerate(T):\n",
    "            if i==j:\n",
    "                continue\n",
    "\n",
    "            G_aux.add_node(\"vSource\")\n",
    "            for n in track_i:\n",
    "                G_aux.add_edge(\"vSource\",n,length=0) #NOT EQUAL TO: n,\"vSource\" (directed)\n",
    "            dists=[nx.shortest_path_length(G_aux,\"vSource\",m, weight='length') for m in track_j]\n",
    "            G_aux.remove_node(\"vSource\")\n",
    "\n",
    "            M[i,j]=sum(dists)/len(track_i)\n",
    "    return M"
   ]
  },
  {
   "cell_type": "code",
   "execution_count": 10,
   "metadata": {},
   "outputs": [],
   "source": [
    "def matrix_element_similarity_v2(G,T):\n",
    "    M=np.zeros((len(T),len(T)))\n",
    "    G_aux=G.copy()\n",
    "\n",
    "    for i,track_i in enumerate(T):\n",
    "        for j,track_j in enumerate(T):\n",
    "            if i==j:\n",
    "                continue\n",
    "\n",
    "            G_aux.add_node(\"vSource\")\n",
    "            G_aux.add_edges_from((\"vSource\", n, {'length': 0}) for n in track_i)\n",
    "            dists=[nx.shortest_path_length(G_aux,\"vSource\",m, weight='length') for m in track_j]\n",
    "            G_aux.remove_node(\"vSource\")\n",
    "\n",
    "            M[i,j]=sum(dists)/len(track_i)\n",
    "    return M"
   ]
  },
  {
   "cell_type": "markdown",
   "metadata": {},
   "source": [
    "ROW-TS"
   ]
  },
  {
   "cell_type": "code",
   "execution_count": 14,
   "metadata": {},
   "outputs": [],
   "source": [
    "def row_wise_track_similarity(G,T):\n",
    "    M=np.zeros((len(T),len(T)))\n",
    "    G_aux=G.copy()\n",
    "\n",
    "    for i,track_i in enumerate(T):\n",
    "\n",
    "        G_aux.add_node(\"vSource\")\n",
    "        G_aux.add_edges_from((\"vSource\", n, {'length': 0}) for n in track_i)\n",
    "        dists=nx.single_source_shortest_path_length(G_aux,\"vSource\")\n",
    "        G_aux.remove_node(\"vSource\")\n",
    "\n",
    "        for j,track_j in enumerate(T):\n",
    "            if i==j:\n",
    "                continue\n",
    "            \n",
    "            max_dist=max(dists[m] for m in track_j)\n",
    "                    \n",
    "            M[i,j]=max_dist\n",
    "    return M"
   ]
  },
  {
   "cell_type": "markdown",
   "metadata": {},
   "source": [
    "Performance test"
   ]
  },
  {
   "cell_type": "code",
   "execution_count": 27,
   "metadata": {},
   "outputs": [],
   "source": [
    "#Choose map\n",
    "G=map_graph\n",
    "\n",
    "#Generate random paths to test\n",
    "from random import choice\n",
    "n_paths=10\n",
    "T=[]\n",
    "for i in range(n_paths):\n",
    "    orig=choice(list(G.nodes()))\n",
    "    dest=choice(list(G.nodes()))\n",
    "    T.append(nx.shortest_path(G, orig, dest, weight='length'))\n",
    "\n",
    "#Compute tha matrix\n",
    "import time\n",
    "t0=time.time()\n",
    "M_mets=matrix_element_similarity(G,T)\n",
    "t1=time.time()\n",
    "print(\"METS (v1) takes {:.2f}s\".format(t1-t0))\n",
    "t0=time.time()\n",
    "M_mets=matrix_element_similarity_v2(G,T)\n",
    "t1=time.time()\n",
    "print(\"METS (v2) takes {:.2f}s\".format(t1-t0))\n",
    "t0=time.time()\n",
    "M_rowts=row_wise_track_similarity(G,T)\n",
    "t1=time.time()\n",
    "print(\"ROW-TS takes {:.2f}s\".format(t1-t0))"
   ]
  },
  {
   "cell_type": "markdown",
   "metadata": {},
   "source": [
    "Clustering"
   ]
  },
  {
   "cell_type": "code",
   "execution_count": 78,
   "metadata": {},
   "outputs": [],
   "source": [
    "from sklearn_extra.cluster import KMedoids\n",
    "\n",
    "def k_corridors_medoid_summarizer(M,k,T,**kwargs):\n",
    "    kmedoids = KMedoids(n_clusters=k, metric='precomputed', **kwargs) #For example random_state=0\n",
    "    kmedoids.fit(M.T) #M.T is not M!! WHICH ONE TO CHOOSE? :((\n",
    "\n",
    "    cluster_labels = kmedoids.labels_\n",
    "    medoid_indices = kmedoids.medoid_indices_\n",
    "\n",
    "    k_corridors=[T[i] for i in medoid_indices]\n",
    "    return k_corridors,medoid_indices,cluster_labels"
   ]
  },
  {
   "cell_type": "markdown",
   "metadata": {},
   "source": [
    "Track converters from list of edges and lists of nodes"
   ]
  },
  {
   "cell_type": "code",
   "execution_count": 24,
   "metadata": {},
   "outputs": [],
   "source": [
    "def edges_to_nodes(track):\n",
    "    return [edge[0] for edge in track]\n",
    "\n",
    "def nodes_to_edges(track):\n",
    "    return [(track[i],track[i+1]) for i in range(len(track)-1)]"
   ]
  },
  {
   "cell_type": "markdown",
   "metadata": {},
   "source": [
    "Metrics definitions"
   ]
  },
  {
   "cell_type": "code",
   "execution_count": 28,
   "metadata": {},
   "outputs": [],
   "source": [
    "def absolute_intersect(track_i,track_j):\n",
    "    \"\"\"\n",
    "    Returns 1 if there is at least one edge from track_i present in track_j,\n",
    "    and 0 otherwise\n",
    "    \"\"\"\n",
    "\n",
    "    #Convert list of nodes into list of edges\n",
    "    set_i=set(nodes_to_edges(track_i))\n",
    "    set_j=set(nodes_to_edges(track_j))\n",
    "\n",
    "    #Calculate intesection\n",
    "    intersect=set_i.intersection(set_j)\n",
    "    n=len(intersect)\n",
    "    \n",
    "    return 0 if n==0 else 1\n",
    "    "
   ]
  },
  {
   "cell_type": "code",
   "execution_count": 36,
   "metadata": {},
   "outputs": [],
   "source": [
    "def relative_intersect(track_i,track_j):\n",
    "    \"\"\"\n",
    "    Returns what portion of the edges from track_i are present in track_j\n",
    "    \"\"\"\n",
    "\n",
    "    #Convert list of nodes into list of edges\n",
    "    set_i=set(nodes_to_edges(track_i))\n",
    "    set_j=set(nodes_to_edges(track_j))\n",
    "\n",
    "    #Calculate intesection\n",
    "    intersect=set_i.intersection(set_j)\n",
    "    n=len(intersect)\n",
    "    \n",
    "    return n/len(set_i)"
   ]
  },
  {
   "cell_type": "code",
   "execution_count": 81,
   "metadata": {},
   "outputs": [],
   "source": [
    "def lenght_relative_intersect(track_i,track_j,G):\n",
    "    \"\"\"\n",
    "    Returns what portion of the length of track_i is in the cummulative length of the edges\n",
    "    also present in track_j\n",
    "    \"\"\"\n",
    "\n",
    "    #Convert list of nodes into list of edges\n",
    "    set_i=set(nodes_to_edges(track_i))\n",
    "    set_j=set(nodes_to_edges(track_j))\n",
    "\n",
    "    #Calculate intersection\n",
    "    intersect=set_i.intersection(set_j)\n",
    "\n",
    "    l_intersect=sum([G.get_edge_data(*edge)[0]['length'] for edge in intersect])\n",
    "    l_i=sum([G.get_edge_data(*edge)[0]['length'] for edge in set_i])\n",
    "\n",
    "\n",
    "    \n",
    "    return l_intersect/l_i"
   ]
  },
  {
   "cell_type": "code",
   "execution_count": 76,
   "metadata": {},
   "outputs": [],
   "source": [
    "def evaluate_metric(metric_fun,T,k_corridors,**kwargs):\n",
    "    \"\"\"\n",
    "    Returs the cummulative value (normalized by the number of tracks) of the \n",
    "    selected metric for the selected k corridors.\n",
    "    T: A list of tracks to be evaluated (if k_corridors are included they will also be evaluated)\n",
    "    k_corridors: A list of k selected corridors\n",
    "    metric_fun: The metric function to evaluate as metric_fun(T[i],k_corridors[j],**kwargs)\n",
    "    \"\"\"\n",
    "\n",
    "    result=0\n",
    "    for track_i in T:\n",
    "        for track_j in k_corridors:\n",
    "            result+=metric_fun(track_i,track_j,**kwargs)\n",
    "\n",
    "    result/=(len(T)*len(k_corridors))\n",
    "\n",
    "    return result"
   ]
  },
  {
   "cell_type": "markdown",
   "metadata": {},
   "source": [
    "Demo:"
   ]
  },
  {
   "cell_type": "code",
   "execution_count": 96,
   "metadata": {},
   "outputs": [
    {
     "name": "stdout",
     "output_type": "stream",
     "text": [
      "Absolute intersection: 0.49\n",
      "Relative intersection: 0.0807\n",
      "Length intersection: 0.0828\n"
     ]
    }
   ],
   "source": [
    "#Choose map\n",
    "G=map_graph\n",
    "\n",
    "#Generate random paths to test\n",
    "from random import choice\n",
    "n_paths=100\n",
    "T=[]\n",
    "for i in range(n_paths):\n",
    "    orig=choice(list(G.nodes()))\n",
    "    dest=choice(list(G.nodes()))\n",
    "    T.append(nx.shortest_path(G, orig, dest, weight='length'))\n",
    "\n",
    "#Compute the similarity matrix\n",
    "M=row_wise_track_similarity(G,T)\n",
    "\n",
    "#Cluster in k corridors\n",
    "n_clusters=8\n",
    "k_corridors,k_index,cluster_labels=k_corridors_medoid_summarizer(M,n_clusters,T,random_state=0)\n",
    "\n",
    "#Test performance\n",
    "#*NOTE: Maybe should remove k_corridors from T ...\n",
    "abs_inter=evaluate_metric(absolute_intersect,T,k_corridors)\n",
    "print(\"Absolute intersection: {:.2f}\".format(abs_inter))\n",
    "\n",
    "rel_inter=evaluate_metric(relative_intersect,T,k_corridors)\n",
    "print(\"Relative intersection: {:.4f}\".format(rel_inter))\n",
    "\n",
    "l_rel_inter=evaluate_metric(lenght_relative_intersect,T,k_corridors,G=G)\n",
    "print(\"Length intersection: {:.4f}\".format(l_rel_inter))\n"
   ]
  }
 ],
 "metadata": {
  "kernelspec": {
   "display_name": "Python 3",
   "language": "python",
   "name": "python3"
  },
  "language_info": {
   "codemirror_mode": {
    "name": "ipython",
    "version": 3
   },
   "file_extension": ".py",
   "mimetype": "text/x-python",
   "name": "python",
   "nbconvert_exporter": "python",
   "pygments_lexer": "ipython3",
   "version": "3.8.2"
  }
 },
 "nbformat": 4,
 "nbformat_minor": 2
}
