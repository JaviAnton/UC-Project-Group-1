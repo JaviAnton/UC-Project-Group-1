{
 "cells": [
  {
   "cell_type": "markdown",
   "metadata": {},
   "source": [
    "# Map preprocessing"
   ]
  },
  {
   "cell_type": "code",
   "execution_count": 2,
   "metadata": {},
   "outputs": [],
   "source": [
    "import networkx as nx\n",
    "import osmnx as ox"
   ]
  },
  {
   "cell_type": "code",
   "execution_count": 3,
   "metadata": {},
   "outputs": [],
   "source": [
    "#Load map\n",
    "g=ox.graph_from_place('Paris, France', network_type='bike',simplify=False)\n",
    "gdf_nodes, gdf_edges=ox.graph_to_gdfs(g)\n",
    "\n",
    "#Prune road types\n",
    "remove_tags=['bridleway','path','unclassified','road']\n",
    "\n",
    "del_list=[]\n",
    "for j,i in gdf_edges.iterrows():\n",
    "    if i[\"highway\"] in remove_tags:\n",
    "        del_list.append(j)\n",
    "gdf_edges=gdf_edges.drop(index=del_list)\n",
    "g=ox.utils_graph.graph_from_gdfs(gdf_nodes, gdf_edges, graph_attrs=None)  \n",
    "\n",
    "#Rebuild the map\n",
    "largest_cc = max(nx.strongly_connected_components(g), key=len)\n",
    "g = g.subgraph(largest_cc)\n",
    "gdf_nodes, gdf_edges=ox.graph_to_gdfs(g)"
   ]
  },
  {
   "cell_type": "markdown",
   "metadata": {},
   "source": [
    "# Data generation"
   ]
  },
  {
   "cell_type": "code",
   "execution_count": 62,
   "metadata": {},
   "outputs": [],
   "source": [
    "from DataGenerator import DataGenerator\n",
    "import csv\n",
    "import ast"
   ]
  },
  {
   "cell_type": "code",
   "execution_count": 76,
   "metadata": {},
   "outputs": [],
   "source": [
    "def save_data(tracks,append=False):\n",
    "    mode = \"a\" if append else \"w\"\n",
    "    with open(\"data/generated-data.csv\", mode) as f:  \n",
    "        writer = csv.writer(f, delimiter=';', quoting=csv.QUOTE_MINIMAL, lineterminator='\\n')\n",
    "        for track in tracks:\n",
    "            #Write item to outcsv\n",
    "            writer.writerow(track)\n",
    "\n",
    "def load_data():\n",
    "    with open('data/generated-data.csv', 'r') as f:\n",
    "        tracks=[]\n",
    "        for track in f:\n",
    "            entries = track.strip().split(';')\n",
    "            nested_lists = [ast.literal_eval(entry) for entry in entries]\n",
    "            tracks.append(nested_lists)\n",
    "    return tracks"
   ]
  },
  {
   "cell_type": "code",
   "execution_count": 78,
   "metadata": {},
   "outputs": [],
   "source": [
    "#Create the generator\n",
    "path=\"data/comptage-velo-donnees-compteurs.csv\"\n",
    "datagen=DataGenerator(G=g,gdf_nodes_edges=(gdf_nodes,gdf_edges),data_path=path)\n",
    "\n",
    "#Generate data in bacthes and save it to the generated data\n",
    "generator_batch_size=10\n",
    "n_batches=10\n",
    "for batch in range(n_batches):\n",
    "    tracks=datagen.track_generator(10,sampling_rate=1)\n",
    "    save_data(tracks,append=True)"
   ]
  },
  {
   "cell_type": "code",
   "execution_count": 82,
   "metadata": {},
   "outputs": [],
   "source": [
    "#Load the generated data\n",
    "T=load_data()"
   ]
  },
  {
   "cell_type": "markdown",
   "metadata": {},
   "source": [
    "# Travel time distribution"
   ]
  }
 ],
 "metadata": {
  "kernelspec": {
   "display_name": "Python 3",
   "language": "python",
   "name": "python3"
  },
  "language_info": {
   "codemirror_mode": {
    "name": "ipython",
    "version": 3
   },
   "file_extension": ".py",
   "mimetype": "text/x-python",
   "name": "python",
   "nbconvert_exporter": "python",
   "pygments_lexer": "ipython3",
   "version": "3.8.2"
  }
 },
 "nbformat": 4,
 "nbformat_minor": 2
}
